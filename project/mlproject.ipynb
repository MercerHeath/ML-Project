{
 "cells": [
  {
   "cell_type": "code",
   "execution_count": null,
   "id": "cd768e6f-1fa1-41fc-b15a-3a56a40b6288",
   "metadata": {},
   "outputs": [],
   "source": [
    "import pandas as pd\n",
    "import os\n",
    "import glob"
   ]
  },
  {
   "cell_type": "code",
   "execution_count": null,
   "id": "e4191859-f581-4737-8473-f5f5b29e6501",
   "metadata": {},
   "outputs": [],
   "source": [
    "#Define paths\n",
    "currentDir = os.path.dirname(__file__)\n",
    "accelerometerDataPath = os.path.join(currentDir, \"data\", \"all_accelerometer_data_pids_13.csv\")\n",
    "tacDataPath = os.path.join(currentDir, \"data\", \"clean_tac\")\n",
    "phoneTypesPath = os.path.join(currentDir, \"data\", \"phone_types.csv\")"
   ]
  },
  {
   "cell_type": "code",
   "execution_count": null,
   "id": "f650eecb-bac0-4100-abd7-0b09c27954c1",
   "metadata": {},
   "outputs": [],
   "source": [
    "#Combine clean_tac into one dataframe\n",
    "csvFiles = glob.glob(os.path.join(tacDataPath, '*.csv'))\n",
    "\n",
    "tacDataFrames = []\n",
    "\n",
    "for csvFile in csvFiles:\n",
    "    tacDataFrames.append(pd.read_csv(csvFile))"
   ]
  },
  {
   "cell_type": "code",
   "execution_count": null,
   "id": "43b41bbf-8b06-442e-902b-346823151cf2",
   "metadata": {},
   "outputs": [],
   "source": [
    "#Loading data files\n",
    "tacData = pd.concat(tacDataFrames, ignore_index=True)\n",
    "accelerometerData = pd.read_csv(accelerometerDataPath)\n",
    "phoneTypes = pd.read_csv(phoneTypesPath)"
   ]
  },
  {
   "cell_type": "code",
   "execution_count": null,
   "id": "2be83396-d8eb-4db5-bf59-0a8acd5803d9",
   "metadata": {},
   "outputs": [],
   "source": [
    "#Connect accelerometer data with their respective phone types\n",
    "accelerometerData = accelerometerData.merge(phoneTypes, on='pid')"
   ]
  },
  {
   "cell_type": "code",
   "execution_count": null,
   "id": "46cb0438-8453-4ea5-9fa3-cedd079a0854",
   "metadata": {},
   "outputs": [],
   "source": [
    "#Identify bar crawl events (increased movement)\n",
    "movementThreshold = .5\n",
    "segmentLength = 60\n",
    "barCrawlEvents = []\n"
   ]
  },
  {
   "cell_type": "code",
   "execution_count": null,
   "id": "53827ccb-4e1a-4f55-a95f-3c8c2714b0ed",
   "metadata": {},
   "outputs": [],
   "source": [
    "#Iterate through participants data\n",
    "for participant_id, participant_data in accelerometerData.groupby('pid'):\n",
    "    participant_data['magnitude'] = (participant_data['x']**2 + participant_data['y']**2 + participant_data['z']**2)**.2\n",
    "\n",
    "    numSegments = len(participant_data) // segmentLength\n",
    "    for i in range(numSegments):\n",
    "        segmentStart = i * segmentLength\n",
    "        segmentEnd = (i + 1) * segmentLength\n",
    "        segmentData = participant_data.iloc[segmentStart:segmentEnd]\n",
    "\n",
    "        if segmentData['magnitude'].max() > movementThreshold:\n",
    "            barCrawlEvents.append({ \n",
    "                'participant_id': participant_id,\n",
    "                'segment_start_time': segmentData['time'].iloc[0],\n",
    "                'segment_end_time': segmentData['time'].iloc[-1],\n",
    "                'magnitude': segmentData['magnitude'].max()\n",
    "            })\n",
    "\n",
    "barCrawlEventsDf = pd.DataFrame(barCrawlEvents)"
   ]
  },
  {
   "cell_type": "code",
   "execution_count": null,
   "id": "8081b476-36cd-420d-b8cc-be8eef5b9490",
   "metadata": {},
   "outputs": [],
   "source": [
    "#Define heavy drinking episodes based on the TAC threshold (united states legislation threshold 0.08)\n",
    "tacThreshold = 0.08\n",
    "heavyDrinkingEpisodes = tacData[tacData['TAC_Reading'] >= tacThreshold]\n",
    "\n",
    "mergeData = pd.merge_asof(barCrawlEventsDf.sort_values('segment_start_time'), heavyDrinkingEpisodes.sort_values('timestamp'), left_on='segment_start_time', right_on='timestamp', tolerance=60000)\n",
    "\n",
    "correlation = mergeData['magnitude'].corr(mergeData['TAC_Reading'])\n",
    "print(barCrawlEventsDf)\n",
    "print(\"Correlation between bar crawls and heavy drinking episodes: \", correlation)"
   ]
  }
 ],
 "metadata": {
  "kernelspec": {
   "display_name": "Python 3 (ipykernel)",
   "language": "python",
   "name": "python3"
  },
  "language_info": {
   "codemirror_mode": {
    "name": "ipython",
    "version": 3
   },
   "file_extension": ".py",
   "mimetype": "text/x-python",
   "name": "python",
   "nbconvert_exporter": "python",
   "pygments_lexer": "ipython3",
   "version": "3.11.7"
  }
 },
 "nbformat": 4,
 "nbformat_minor": 5
}
