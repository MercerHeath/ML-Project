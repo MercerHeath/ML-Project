{
 "cells": [
  {
   "cell_type": "code",
   "execution_count": 6,
   "id": "cd768e6f-1fa1-41fc-b15a-3a56a40b6288",
   "metadata": {},
   "outputs": [],
   "source": [
    "import pandas as pd\n",
    "import numpy as np\n",
    "import os\n",
    "import glob"
   ]
  },
  {
   "cell_type": "code",
   "execution_count": 7,
   "id": "e4191859-f581-4737-8473-f5f5b29e6501",
   "metadata": {},
   "outputs": [],
   "source": [
    "#Define paths\n",
    "currentDir = os.getcwd()\n",
    "accelerometerDataPath = os.path.join(currentDir, \"data\", \"all_accelerometer_data_pids_13.csv\")\n",
    "tacDataPath = os.path.join(currentDir, \"data\", \"clean_tac\")\n",
    "phoneTypesPath = os.path.join(currentDir, \"data\", \"phone_types.csv\")"
   ]
  },
  {
   "cell_type": "code",
   "execution_count": 8,
   "id": "f650eecb-bac0-4100-abd7-0b09c27954c1",
   "metadata": {},
   "outputs": [
    {
     "name": "stdout",
     "output_type": "stream",
     "text": [
      "['c:\\\\Users\\\\mrcat\\\\Documents\\\\GitHub\\\\MLProject\\\\project\\\\data\\\\clean_tac\\\\BK7610_clean_TAC.csv', 'c:\\\\Users\\\\mrcat\\\\Documents\\\\GitHub\\\\MLProject\\\\project\\\\data\\\\clean_tac\\\\BU4707_clean_TAC.csv', 'c:\\\\Users\\\\mrcat\\\\Documents\\\\GitHub\\\\MLProject\\\\project\\\\data\\\\clean_tac\\\\CC6740_clean_TAC.csv', 'c:\\\\Users\\\\mrcat\\\\Documents\\\\GitHub\\\\MLProject\\\\project\\\\data\\\\clean_tac\\\\DC6359_clean_TAC.csv', 'c:\\\\Users\\\\mrcat\\\\Documents\\\\GitHub\\\\MLProject\\\\project\\\\data\\\\clean_tac\\\\DK3500_clean_TAC.csv', 'c:\\\\Users\\\\mrcat\\\\Documents\\\\GitHub\\\\MLProject\\\\project\\\\data\\\\clean_tac\\\\HV0618_clean_TAC.csv', 'c:\\\\Users\\\\mrcat\\\\Documents\\\\GitHub\\\\MLProject\\\\project\\\\data\\\\clean_tac\\\\JB3156_clean_TAC.csv', 'c:\\\\Users\\\\mrcat\\\\Documents\\\\GitHub\\\\MLProject\\\\project\\\\data\\\\clean_tac\\\\JR8022_clean_TAC.csv', 'c:\\\\Users\\\\mrcat\\\\Documents\\\\GitHub\\\\MLProject\\\\project\\\\data\\\\clean_tac\\\\MC7070_clean_TAC.csv', 'c:\\\\Users\\\\mrcat\\\\Documents\\\\GitHub\\\\MLProject\\\\project\\\\data\\\\clean_tac\\\\MJ8002_clean_TAC.csv', 'c:\\\\Users\\\\mrcat\\\\Documents\\\\GitHub\\\\MLProject\\\\project\\\\data\\\\clean_tac\\\\PC6771_clean_TAC.csv', 'c:\\\\Users\\\\mrcat\\\\Documents\\\\GitHub\\\\MLProject\\\\project\\\\data\\\\clean_tac\\\\SA0297_clean_TAC.csv', 'c:\\\\Users\\\\mrcat\\\\Documents\\\\GitHub\\\\MLProject\\\\project\\\\data\\\\clean_tac\\\\SF3079_clean_TAC.csv']\n"
     ]
    }
   ],
   "source": [
    "#Combine clean_tac into one dataframe\n",
    "csvFiles = glob.glob(os.path.join(tacDataPath, '*.csv'))\n",
    "print(csvFiles)\n",
    "tacDataFrames = []\n",
    "\n",
    "for csvFile in csvFiles:\n",
    "    tacDataFrames.append(pd.read_csv(csvFile))"
   ]
  },
  {
   "cell_type": "code",
   "execution_count": 9,
   "id": "43b41bbf-8b06-442e-902b-346823151cf2",
   "metadata": {},
   "outputs": [],
   "source": [
    "#Loading data files\n",
    "\n",
    "tacData = pd.concat(tacDataFrames, ignore_index=True)\n",
    "accelerometerData = pd.read_csv(accelerometerDataPath)\n",
    "phoneTypes = pd.read_csv(phoneTypesPath)"
   ]
  },
  {
   "cell_type": "code",
   "execution_count": 17,
   "id": "357560d1",
   "metadata": {},
   "outputs": [
    {
     "data": {
      "text/html": [
       "<div>\n",
       "<style scoped>\n",
       "    .dataframe tbody tr th:only-of-type {\n",
       "        vertical-align: middle;\n",
       "    }\n",
       "\n",
       "    .dataframe tbody tr th {\n",
       "        vertical-align: top;\n",
       "    }\n",
       "\n",
       "    .dataframe thead th {\n",
       "        text-align: right;\n",
       "    }\n",
       "</style>\n",
       "<table border=\"1\" class=\"dataframe\">\n",
       "  <thead>\n",
       "    <tr style=\"text-align: right;\">\n",
       "      <th></th>\n",
       "      <th>pid</th>\n",
       "      <th>phonetype</th>\n",
       "    </tr>\n",
       "  </thead>\n",
       "  <tbody>\n",
       "    <tr>\n",
       "      <th>0</th>\n",
       "      <td>BK7610</td>\n",
       "      <td>iPhone</td>\n",
       "    </tr>\n",
       "    <tr>\n",
       "      <th>1</th>\n",
       "      <td>BU4707</td>\n",
       "      <td>iPhone</td>\n",
       "    </tr>\n",
       "    <tr>\n",
       "      <th>2</th>\n",
       "      <td>CC6740</td>\n",
       "      <td>Android</td>\n",
       "    </tr>\n",
       "    <tr>\n",
       "      <th>3</th>\n",
       "      <td>DC6359</td>\n",
       "      <td>iPhone</td>\n",
       "    </tr>\n",
       "    <tr>\n",
       "      <th>4</th>\n",
       "      <td>DK3500</td>\n",
       "      <td>iPhone</td>\n",
       "    </tr>\n",
       "  </tbody>\n",
       "</table>\n",
       "</div>"
      ],
      "text/plain": [
       "      pid phonetype\n",
       "0  BK7610    iPhone\n",
       "1  BU4707    iPhone\n",
       "2  CC6740   Android\n",
       "3  DC6359    iPhone\n",
       "4  DK3500    iPhone"
      ]
     },
     "execution_count": 17,
     "metadata": {},
     "output_type": "execute_result"
    }
   ],
   "source": [
    "#Check dataframes\n",
    "tacData.head()\n",
    "accelerometerData.head()\n",
    "phoneTypes.head()\n"
   ]
  },
  {
   "cell_type": "code",
   "execution_count": 18,
   "id": "e6d71f7a",
   "metadata": {},
   "outputs": [
    {
     "data": {
      "text/plain": [
       "pid          0\n",
       "phonetype    0\n",
       "dtype: int64"
      ]
     },
     "execution_count": 18,
     "metadata": {},
     "output_type": "execute_result"
    }
   ],
   "source": [
    "#Check for null\n",
    "#Check for null\n",
    "tacData.isnull().sum()\n",
    "accelerometerData.isnull().sum()\n",
    "phoneTypes.isnull().sum()"
   ]
  },
  {
   "cell_type": "code",
   "execution_count": null,
   "id": "b620e27d",
   "metadata": {},
   "outputs": [],
   "source": []
  },
  {
   "cell_type": "code",
   "execution_count": 10,
   "id": "2be83396-d8eb-4db5-bf59-0a8acd5803d9",
   "metadata": {},
   "outputs": [],
   "source": [
    "#Connect accelerometer data with their respective phone types\n",
    "accelerometerData = accelerometerData.merge(phoneTypes, on='pid')"
   ]
  },
  {
   "cell_type": "code",
   "execution_count": 11,
   "id": "46cb0438-8453-4ea5-9fa3-cedd079a0854",
   "metadata": {},
   "outputs": [],
   "source": [
    "#Identify bar crawl events (increased movement)\n",
    "movementThreshold = .5\n",
    "segmentLength = 60\n",
    "barCrawlEvents = []\n"
   ]
  },
  {
   "cell_type": "code",
   "execution_count": 12,
   "id": "53827ccb-4e1a-4f55-a95f-3c8c2714b0ed",
   "metadata": {},
   "outputs": [],
   "source": [
    "#Iterate through participants data\n",
    "for participant_id, participant_data in accelerometerData.groupby('pid'):\n",
    "    participant_data['magnitude'] = (participant_data['x']**2 + participant_data['y']**2 + participant_data['z']**2)**.2\n",
    "\n",
    "    numSegments = len(participant_data) // segmentLength\n",
    "    for i in range(numSegments):\n",
    "        segmentStart = i * segmentLength\n",
    "        segmentEnd = (i + 1) * segmentLength\n",
    "        segmentData = participant_data.iloc[segmentStart:segmentEnd]\n",
    "\n",
    "        if segmentData['magnitude'].max() > movementThreshold:\n",
    "            barCrawlEvents.append({ \n",
    "                'participant_id': participant_id,\n",
    "                'segment_start_time': segmentData['time'].iloc[0],\n",
    "                'segment_end_time': segmentData['time'].iloc[-1],\n",
    "                'magnitude': segmentData['magnitude'].max()\n",
    "            })\n",
    "\n",
    "barCrawlEventsDf = pd.DataFrame(barCrawlEvents)"
   ]
  },
  {
   "cell_type": "code",
   "execution_count": 13,
   "id": "8081b476-36cd-420d-b8cc-be8eef5b9490",
   "metadata": {},
   "outputs": [
    {
     "name": "stdout",
     "output_type": "stream",
     "text": [
      "       participant_id  segment_start_time  segment_end_time  magnitude\n",
      "0              BK7610       1493735870653     1493735872129   0.567631\n",
      "1              BK7610       1493735873655     1493735875134   0.619921\n",
      "2              BK7610       1493735875156     1493735876632   0.508015\n",
      "3              BK7610       1493735885661     1493735887137   0.588549\n",
      "4              BK7610       1493735888663     1493735890139   0.614804\n",
      "...               ...                 ...               ...        ...\n",
      "100797         SF3079       1493782329150     1493782330628   0.623621\n",
      "100798         SF3079       1493782330664     1493790814367   1.002390\n",
      "100799         SF3079       1493790814369     1493790814860   1.163447\n",
      "100800         SF3079       1493790814863     1493790815950   1.017784\n",
      "100801         SF3079       1493790823484     1493790824943   1.081954\n",
      "\n",
      "[100802 rows x 4 columns]\n",
      "Correlation between bar crawls and heavy drinking episodes:  nan\n"
     ]
    }
   ],
   "source": [
    "#Define heavy drinking episodes based on the TAC threshold (united states legislation threshold 0.08)\n",
    "tacThreshold = 0.08\n",
    "heavyDrinkingEpisodes = tacData[tacData['TAC_Reading'] >= tacThreshold]\n",
    "\n",
    "mergeData = pd.merge_asof(barCrawlEventsDf.sort_values('segment_start_time'), heavyDrinkingEpisodes.sort_values('timestamp'), left_on='segment_start_time', right_on='timestamp', tolerance=60000)\n",
    "\n",
    "correlation = mergeData['magnitude'].corr(mergeData['TAC_Reading'])\n",
    "print(barCrawlEventsDf)\n",
    "print(\"Correlation between bar crawls and heavy drinking episodes: \", correlation)"
   ]
  }
 ],
 "metadata": {
  "kernelspec": {
   "display_name": "Python 3 (ipykernel)",
   "language": "python",
   "name": "python3"
  },
  "language_info": {
   "codemirror_mode": {
    "name": "ipython",
    "version": 3
   },
   "file_extension": ".py",
   "mimetype": "text/x-python",
   "name": "python",
   "nbconvert_exporter": "python",
   "pygments_lexer": "ipython3",
   "version": "3.11.7"
  }
 },
 "nbformat": 4,
 "nbformat_minor": 5
}
